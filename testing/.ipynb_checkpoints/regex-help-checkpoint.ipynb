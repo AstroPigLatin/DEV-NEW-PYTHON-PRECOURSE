{
 "cells": [
  {
   "cell_type": "markdown",
   "metadata": {
    "colab_type": "text",
    "id": "vkmGLHMo6pK5"
   },
   "source": [
    "# Help with REGEX"
   ]
  },
  {
   "cell_type": "code",
   "execution_count": null,
   "metadata": {
    "colab": {},
    "colab_type": "code",
    "id": "vjes-ClE6q4G"
   },
   "outputs": [],
   "source": [
    " string = \"\"\"```js\n",
    "\n",
    "describe(\"isOdd\", function() {\n",
    "  it(\"should return a boolean\", function() {\n",
    "    expect(typeof isOdd(40)).to.deep.eq(\"boolean\");\n",
    "  });\n",
    "  it(\"should return if the number is odd\", function() {\n",
    "    expect(isOdd(7)).to.deep.eq(true);\n",
    "  });\n",
    "  it(\"should return false if the number is 0\", function() {\n",
    "    expect(isOdd(0)).to.deep.eq(false);\n",
    "  });\n",
    "});```\"\"\""
   ]
  },
  {
   "cell_type": "code",
   "execution_count": 3,
   "metadata": {},
   "outputs": [
    {
     "data": {
      "text/plain": [
       "{'isOdd': {'tests': []}, 'isEven': {'tests': []}}"
      ]
     },
     "execution_count": 3,
     "metadata": {},
     "output_type": "execute_result"
    }
   ],
   "source": [
    "struc = {}\n",
    "func_names = ['isOdd','isEven']\n",
    "for name in func_names:\n",
    "    struc[name]= {}\n",
    "    struc[name]['tests'] = []\n",
    "struc"
   ]
  },
  {
   "cell_type": "code",
   "execution_count": 5,
   "metadata": {},
   "outputs": [],
   "source": [
    "test_struc = {'test_description':None,\n",
    "                'checks_return_type':False,\n",
    "                'function_with_args':None,\n",
    "              'expected_result':None\n",
    "            }\n",
    "\n",
    "tests = ['test1', 'test2']"
   ]
  },
  {
   "cell_type": "code",
   "execution_count": 6,
   "metadata": {},
   "outputs": [
    {
     "data": {
      "text/plain": [
       "{'isOdd': {'tests': [{'test_description': None,\n",
       "    'checks_return_type': False,\n",
       "    'function_with_args': None,\n",
       "    'expected_result': None},\n",
       "   {'test_description': None,\n",
       "    'checks_return_type': False,\n",
       "    'function_with_args': None,\n",
       "    'expected_result': None}]},\n",
       " 'isEven': {'tests': [{'test_description': None,\n",
       "    'checks_return_type': False,\n",
       "    'function_with_args': None,\n",
       "    'expected_result': None},\n",
       "   {'test_description': None,\n",
       "    'checks_return_type': False,\n",
       "    'function_with_args': None,\n",
       "    'expected_result': None}]}}"
      ]
     },
     "execution_count": 6,
     "metadata": {},
     "output_type": "execute_result"
    }
   ],
   "source": [
    "for name in struc:\n",
    "    for test in tests:\n",
    "        struc[name]['tests'].append(test_struc)\n",
    "\n",
    "struc"
   ]
  },
  {
   "cell_type": "code",
   "execution_count": 8,
   "metadata": {},
   "outputs": [],
   "source": [
    " string = \"\"\"```js\n",
    "\n",
    "describe(\"isOdd\", function() {\n",
    "  it(\"should return a boolean\", function() {\n",
    "    expect(typeof isOdd(40)).to.deep.eq(\"boolean\");\n",
    "  });\n",
    "  it(\"should return if the number is odd\", function() {\n",
    "    expect(isOdd(7)).to.deep.eq(true);\n",
    "  });\n",
    "  it(\"should return false if the number is 0\", function() {\n",
    "    expect(isOdd(0)).to.deep.eq(false);\n",
    "  });\n",
    "});```\n",
    "\n",
    "stuff in here somewhere\n",
    "```js\n",
    "\n",
    "describe(\"removeFromBack\", function() {\n",
    "  it(\"should return an array\", function() {\n",
    "    expect(Array.isArray(removeFromBack([1, 2, 3]))).to.deep.eq(true);\n",
    "  });\n",
    "  it(\"should remove the last element from a 3-element array\", function() {\n",
    "    expect(removeFromBack([1, 2, 3])).to.deep.eq([1, 2]);\n",
    "  });\n",
    "  it(\"should remove the last element from a 2-element array\", function() {\n",
    "    expect(removeFromBack([1, 2])).to.deep.eq([1]);\n",
    "  });\n",
    "  it(\"should handle an empty array\", function() {\n",
    "    expect(removeFromBack([])).to.deep.eq([]);\n",
    "  });\n",
    "});\n",
    "\n",
    "\n",
    "```\n",
    "\"\"\""
   ]
  },
  {
   "cell_type": "code",
   "execution_count": 9,
   "metadata": {},
   "outputs": [
    {
     "data": {
      "text/plain": [
       "'```js\\n\\ndescribe(\"isOdd\", function() {\\n\\xa0\\xa0it(\"should return a boolean\", function() {\\n\\xa0\\xa0\\xa0\\xa0expect(typeof isOdd(40)).to.deep.eq(\"boolean\");\\n\\xa0\\xa0});\\n\\xa0\\xa0it(\"should return if the number is odd\", function() {\\n\\xa0\\xa0\\xa0\\xa0expect(isOdd(7)).to.deep.eq(true);\\n\\xa0\\xa0});\\n\\xa0\\xa0it(\"should return false if the number is 0\", function() {\\n\\xa0\\xa0\\xa0\\xa0expect(isOdd(0)).to.deep.eq(false);\\n\\xa0\\xa0});\\n});```'"
      ]
     },
     "execution_count": 9,
     "metadata": {},
     "output_type": "execute_result"
    }
   ],
   "source": [
    "string"
   ]
  },
  {
   "cell_type": "code",
   "execution_count": 14,
   "metadata": {},
   "outputs": [],
   "source": [
    "import unicodedata\n",
    "import re\n",
    "string2 = unicodedata.normalize(\"NFKD\", string)"
   ]
  },
  {
   "cell_type": "code",
   "execution_count": 13,
   "metadata": {},
   "outputs": [
    {
     "data": {
      "text/plain": [
       "'```js\\n\\ndescribe(\"isOdd\", function() {\\n  it(\"should return a boolean\", function() {\\n    expect(typeof isOdd(40)).to.deep.eq(\"boolean\");\\n  });\\n  it(\"should return if the number is odd\", function() {\\n    expect(isOdd(7)).to.deep.eq(true);\\n  });\\n  it(\"should return false if the number is 0\", function() {\\n    expect(isOdd(0)).to.deep.eq(false);\\n  });\\n});```'"
      ]
     },
     "execution_count": 13,
     "metadata": {},
     "output_type": "execute_result"
    }
   ],
   "source": [
    "string2"
   ]
  },
  {
   "cell_type": "code",
   "execution_count": 22,
   "metadata": {},
   "outputs": [
    {
     "data": {
      "text/plain": [
       "['isOdd']"
      ]
     },
     "execution_count": 22,
     "metadata": {},
     "output_type": "execute_result"
    }
   ],
   "source": [
    "name = re.compile(r'describe\\(\\\"([A-z]*)')\n",
    "name.findall(string2)"
   ]
  },
  {
   "cell_type": "code",
   "execution_count": 21,
   "metadata": {},
   "outputs": [
    {
     "data": {
      "text/plain": [
       "['should return a boolean',\n",
       " 'should return if the number is odd',\n",
       " 'should return false if the number is 0']"
      ]
     },
     "execution_count": 21,
     "metadata": {},
     "output_type": "execute_result"
    }
   ],
   "source": [
    "description = re.compile(r'it\\(\"([^\"]*)')\n",
    "description.findall(string2)"
   ]
  },
  {
   "cell_type": "code",
   "execution_count": null,
   "metadata": {},
   "outputs": [],
   "source": []
  },
  {
   "cell_type": "code",
   "execution_count": null,
   "metadata": {},
   "outputs": [],
   "source": []
  },
  {
   "cell_type": "code",
   "execution_count": null,
   "metadata": {},
   "outputs": [],
   "source": []
  },
  {
   "cell_type": "code",
   "execution_count": null,
   "metadata": {},
   "outputs": [],
   "source": []
  },
  {
   "cell_type": "code",
   "execution_count": null,
   "metadata": {},
   "outputs": [],
   "source": []
  },
  {
   "cell_type": "code",
   "execution_count": 7,
   "metadata": {},
   "outputs": [],
   "source": [
    " string = \"\"\"```js\n",
    "\n",
    "describe(\"isOdd\", function() {\n",
    "  it(\"should return a boolean\", function() {\n",
    "    expect(typeof isOdd(40)).to.deep.eq(\"boolean\");\n",
    "  });\n",
    "  it(\"should return if the number is odd\", function() {\n",
    "    expect(isOdd(7)).to.deep.eq(true);\n",
    "  });\n",
    "  it(\"should return false if the number is 0\", function() {\n",
    "    expect(isOdd(0)).to.deep.eq(false);\n",
    "  });\n",
    "});```\"\"\""
   ]
  },
  {
   "cell_type": "code",
   "execution_count": null,
   "metadata": {
    "colab": {},
    "colab_type": "code",
    "id": "sbRFdXcX791d"
   },
   "outputs": [],
   "source": [
    "function_dict = {\n",
    "    'isOdd':{\n",
    "        'test1':{\n",
    "            'decription':'should return a boolean',\n",
    "            'typeof': True,\n",
    "            'function':'isOdd(40)',\n",
    "            'result': 'boolean'},\n",
    "        'test2':{\n",
    "            'decription':'should return if the number is odd',\n",
    "            'typeof': False,\n",
    "            'function':'isOdd(7)',\n",
    "            'result': 'true'},\n",
    "        'test3':{\n",
    "            'decription':'should return false if the number is 0',\n",
    "            'typeof': False,\n",
    "            'function':'isOdd(0)',\n",
    "            'result': 'false'},\n",
    "        #close isOdd\n",
    "        } \n",
    "# close main dict    \n",
    "}"
   ]
  },
  {
   "cell_type": "code",
   "execution_count": null,
   "metadata": {
    "colab": {},
    "colab_type": "code",
    "id": "ZZK3iVe69Beh"
   },
   "outputs": [],
   "source": []
  },
  {
   "cell_type": "markdown",
   "metadata": {
    "colab_type": "text",
    "id": "BPdC6f8g9IZW"
   },
   "source": [
    "## Get function name"
   ]
  },
  {
   "cell_type": "code",
   "execution_count": null,
   "metadata": {
    "colab": {},
    "colab_type": "code",
    "id": "9HhIyV5N6mzQ"
   },
   "outputs": [],
   "source": [
    "import re"
   ]
  },
  {
   "cell_type": "code",
   "execution_count": null,
   "metadata": {
    "colab": {},
    "colab_type": "code",
    "id": "WPeFWsn-9HS9"
   },
   "outputs": [],
   "source": [
    "test_f_name = re.compile('describe\\(\\\"([A-z]*)')\n",
    "test_split = re.compile('it\\(')\n",
    "test_desc = re.compile('\\\"([A-z| |0-9]*)')\n",
    "test_fun = re.compile('expect\\(([A-z| |0-9|\\(|]*\\))')\n",
    "test_res = re.compile('eq\\((\\\"{0,1}[A-z|\\[|\\]|\\{|\\}|\\:\\'|]*)')\n",
    "test_typeof = re.compile('expect\\([ ]*typeof')\n"
   ]
  },
  {
   "cell_type": "code",
   "execution_count": null,
   "metadata": {
    "colab": {},
    "colab_type": "code",
    "id": "zn3tH8a--0Lr"
   },
   "outputs": [],
   "source": [
    "function_dict2={}\n",
    "i=1\n",
    "for test in test_split.split(string):\n",
    "  if test_f_name.search(test):\n",
    "    # Add this to the dictionary & begin a new thingy\n",
    "    fun_name = test_f_name.findall(test)[0]\n",
    "    if fun_name not in function_dict2.keys():\n",
    "      # make the key the function name\n",
    "      function_dict2[fun_name]={}\n",
    "    else:\n",
    "      pass\n",
    "      \n",
    "  else:\n",
    "    function_dict2[fun_name][f'test{i}']={}\n",
    "    var_desc = test_desc.findall(test)[0]\n",
    "    var_fun = ''.join(test_fun.findall(test)[0].split('typeof')).strip()\n",
    "    var_res = ''.join(test_res.findall(test)[0].split('\"')).strip()\n",
    "    var_typeof = test_typeof.search(test) is not None\n",
    "    \n",
    "    function_dict2[fun_name][f'test{i}']['decription'] = var_desc\n",
    "    function_dict2[fun_name][f'test{i}']['function'] = var_fun\n",
    "    function_dict2[fun_name][f'test{i}']['result'] = var_res\n",
    "    function_dict2[fun_name][f'test{i}']['typeof'] = var_typeof\n",
    "    i+=1"
   ]
  },
  {
   "cell_type": "code",
   "execution_count": null,
   "metadata": {
    "colab": {},
    "colab_type": "code",
    "id": "yE-5hZf8Ds0C"
   },
   "outputs": [],
   "source": []
  },
  {
   "cell_type": "code",
   "execution_count": null,
   "metadata": {
    "colab": {},
    "colab_type": "code",
    "id": "0bTEMbno-b2S"
   },
   "outputs": [],
   "source": []
  },
  {
   "cell_type": "code",
   "execution_count": null,
   "metadata": {
    "colab": {},
    "colab_type": "code",
    "id": "j7hUVkPI61mh"
   },
   "outputs": [],
   "source": []
  },
  {
   "cell_type": "code",
   "execution_count": null,
   "metadata": {
    "colab": {},
    "colab_type": "code",
    "id": "g5ZA8b6V61pV"
   },
   "outputs": [],
   "source": []
  },
  {
   "cell_type": "code",
   "execution_count": null,
   "metadata": {
    "colab": {},
    "colab_type": "code",
    "id": "puPar23Y61sl"
   },
   "outputs": [],
   "source": []
  },
  {
   "cell_type": "code",
   "execution_count": null,
   "metadata": {
    "colab": {},
    "colab_type": "code",
    "id": "7JysEDdd61u_"
   },
   "outputs": [],
   "source": []
  }
 ],
 "metadata": {
  "colab": {
   "name": "Help with Regex.ipynb",
   "provenance": [],
   "version": "0.3.2"
  },
  "kernelspec": {
   "display_name": "Python 3",
   "language": "python",
   "name": "python3"
  },
  "language_info": {
   "codemirror_mode": {
    "name": "ipython",
    "version": 3
   },
   "file_extension": ".py",
   "mimetype": "text/x-python",
   "name": "python",
   "nbconvert_exporter": "python",
   "pygments_lexer": "ipython3",
   "version": "3.6.5"
  }
 },
 "nbformat": 4,
 "nbformat_minor": 2
}
