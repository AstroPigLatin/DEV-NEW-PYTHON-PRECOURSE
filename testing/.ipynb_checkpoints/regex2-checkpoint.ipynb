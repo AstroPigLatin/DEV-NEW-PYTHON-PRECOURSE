{
 "cells": [
  {
   "cell_type": "code",
   "execution_count": 1,
   "metadata": {},
   "outputs": [],
   "source": [
    "import re, os, unicodedata"
   ]
  },
  {
   "cell_type": "code",
   "execution_count": 35,
   "metadata": {},
   "outputs": [],
   "source": [
    "src_file = \"dict9.md\"\n",
    "with open(src_file, 'rt') as f:\n",
    "    string = f.read()\n",
    "string = unicodedata.normalize(\"NFKD\", string)"
   ]
  },
  {
   "cell_type": "code",
   "execution_count": 36,
   "metadata": {},
   "outputs": [],
   "source": [
    "block = re.compile(r'describe[^`]*')\n",
    "functions = block.findall(string)"
   ]
  },
  {
   "cell_type": "code",
   "execution_count": 37,
   "metadata": {},
   "outputs": [
    {
     "data": {
      "text/plain": [
       "'describe(\"getAverageOfElementsAtProperty\", function() {\\n  it(\"should return the average of all the elements of the array located at key\", function() {\\n    var obj = {\\n      array: [1, 3, 5]\\n    };\\n    expect(getAverageOfElementsAtProperty(obj, \"array\")).to.deep.eq(3);\\n  });\\n  it(\"should return 0 if the array is empty\", function() {\\n    var obj = {\\n      array: []\\n    };\\n    expect(getAverageOfElementsAtProperty(obj, \"array\")).to.deep.eq(0);\\n  });\\n  it(\"should return 0 if the property is not an array\", function() {\\n    var obj = {\\n      array: \"sike\"\\n    };\\n    expect(getAverageOfElementsAtProperty(obj, \"array\")).to.deep.eq(0);\\n  });\\n  it(\"should return 0 if the property does not exist\", function() {\\n    var obj = {\\n      what: \"sike\"\\n    };\\n    expect(getAverageOfElementsAtProperty(obj, \"array\")).to.deep.eq(0);\\n  });\\n});\\n\\n'"
      ]
     },
     "execution_count": 37,
     "metadata": {},
     "output_type": "execute_result"
    }
   ],
   "source": [
    "functions[1]"
   ]
  },
  {
   "cell_type": "code",
   "execution_count": 38,
   "metadata": {},
   "outputs": [
    {
     "data": {
      "text/plain": [
       "'describe(\"getEvenLengthWordsAtProperty\", function() {\\n  it(\"should return an array containing all the even length elements of the array located at key\", function() {\\n    var obj = {\\n      array: [\"a\", \"long\", \"game\"]\\n    };\\n    expect(getEvenLengthWordsAtProperty(obj, \"array\")).to.deep.eq([\"long\", \"game\"]);\\n  });\\n  it(\"should return an empty array if the array has only no even length elements\", function() {\\n    var obj = {\\n      array: [\"I\", \"may\", \"say\"]\\n    };\\n    expect(getEvenLengthWordsAtProperty(obj, \"array\")).to.deep.eq([]);\\n  });\\n  it(\"should return an empty array if the array is empty\", function() {\\n    var obj = {\\n      array: []\\n    };\\n    expect(getEvenLengthWordsAtProperty(obj, \"array\")).to.deep.eq([]);\\n  });\\n  it(\"should return an empty array if the property is not an array\", function() {\\n    var obj = {\\n      array: \"sike\"\\n    };\\n    expect(getEvenLengthWordsAtProperty(obj, \"array\")).to.deep.eq([]);\\n  });\\n  it(\"should return an empty array if the property does not exist\", function() {\\n    var obj = {\\n      what: \"sike\"\\n    };\\n    expect(getEvenLengthWordsAtProperty(obj, \"array\")).to.deep.eq([]);\\n  });\\n});\\n\\n'"
      ]
     },
     "execution_count": 38,
     "metadata": {},
     "output_type": "execute_result"
    }
   ],
   "source": [
    "functions[2]"
   ]
  },
  {
   "cell_type": "code",
   "execution_count": 39,
   "metadata": {},
   "outputs": [
    {
     "data": {
      "text/plain": [
       "'describe(\"getOddLengthWordsAtProperty\", function() {\\n  it(\"should return an array containing all the odd length elements of the array located at key\", function() {\\n    var obj = {\\n      array: [\"a\", \"long\", \"night\"]\\n    };\\n    expect(getOddLengthWordsAtProperty(obj, \"array\")).to.deep.eq([\"a\", \"night\"]);\\n  });\\n  it(\"should return an empty array if the array has only no odd length elements\", function() {\\n    var obj = {\\n      array: [\"It\", \"is\", \"gone\"]\\n    };\\n    expect(getOddLengthWordsAtProperty(obj, \"array\")).to.deep.eq([]);\\n  });\\n  it(\"should return an empty array if the array is empty\", function() {\\n    var obj = {\\n      array: []\\n    };\\n    expect(getOddLengthWordsAtProperty(obj, \"array\")).to.deep.eq([]);\\n  });\\n  it(\"should return an empty array if the property is not an array\", function() {\\n    var obj = {\\n      array: \"sike\"\\n    };\\n    expect(getOddLengthWordsAtProperty(obj, \"array\")).to.deep.eq([]);\\n  });\\n  it(\"should return an empty array if the property does not exist\", function() {\\n    var obj = {\\n      what: \"sike\"\\n    };\\n    expect(getOddLengthWordsAtProperty(obj, \"array\")).to.deep.eq([]);\\n  });\\n});\\n\\n\\n'"
      ]
     },
     "execution_count": 39,
     "metadata": {},
     "output_type": "execute_result"
    }
   ],
   "source": [
    "fun = functions[0]\n",
    "fun"
   ]
  },
  {
   "cell_type": "code",
   "execution_count": 40,
   "metadata": {},
   "outputs": [
    {
     "data": {
      "text/plain": [
       "['getOddLengthWordsAtProperty']"
      ]
     },
     "execution_count": 40,
     "metadata": {},
     "output_type": "execute_result"
    }
   ],
   "source": [
    "function_name = re.compile(r'describe\\(\\\"([A-z]*)')\n",
    "function_name.findall(fun)\n"
   ]
  },
  {
   "cell_type": "code",
   "execution_count": 41,
   "metadata": {},
   "outputs": [
    {
     "data": {
      "text/plain": [
       "['should return an array containing all the odd length elements of the array located at key',\n",
       " 'should return an empty array if the array has only no odd length elements',\n",
       " 'should return an empty array if the array is empty',\n",
       " 'should return an empty array if the property is not an array',\n",
       " 'should return an empty array if the property does not exist']"
      ]
     },
     "execution_count": 41,
     "metadata": {},
     "output_type": "execute_result"
    }
   ],
   "source": [
    "# test expectations\n",
    "test_description = re.compile(r'it\\(\"([^\"]*)')\n",
    "test_description.findall(fun)"
   ]
  },
  {
   "cell_type": "code",
   "execution_count": 43,
   "metadata": {},
   "outputs": [
    {
     "data": {
      "text/plain": [
       "'getOddLengthWordsAtProperty'"
      ]
     },
     "execution_count": 43,
     "metadata": {},
     "output_type": "execute_result"
    }
   ],
   "source": [
    "r'{}'.format(fun_name.findall(fun)[0])"
   ]
  },
  {
   "cell_type": "code",
   "execution_count": 44,
   "metadata": {},
   "outputs": [],
   "source": [
    "function_with_args = re.compile(r'{}\\([^)]+\\)'.format(fun_name.findall(fun)[0]))"
   ]
  },
  {
   "cell_type": "code",
   "execution_count": 45,
   "metadata": {},
   "outputs": [
    {
     "data": {
      "text/plain": [
       "['getOddLengthWordsAtProperty(obj, \"array\")',\n",
       " 'getOddLengthWordsAtProperty(obj, \"array\")',\n",
       " 'getOddLengthWordsAtProperty(obj, \"array\")',\n",
       " 'getOddLengthWordsAtProperty(obj, \"array\")',\n",
       " 'getOddLengthWordsAtProperty(obj, \"array\")']"
      ]
     },
     "execution_count": 45,
     "metadata": {},
     "output_type": "execute_result"
    }
   ],
   "source": [
    "function_with_args.findall(fun)"
   ]
  },
  {
   "cell_type": "code",
   "execution_count": 29,
   "metadata": {},
   "outputs": [
    {
     "data": {
      "text/plain": [
       "'describe(\"getOddLengthWordsAtProperty\", function() {\\n  it(\"should return an array containing all the odd length elements of the array located at key\", function() {\\n    var obj = {\\n      array: [\"a\", \"long\", \"night\"]\\n    };\\n    expect(getOddLengthWordsAtProperty(obj, \"array\")).to.deep.eq([\"a\", \"night\"]);\\n  });\\n  it(\"should return an empty array if the array has only no odd length elements\", function() {\\n    var obj = {\\n      array: [\"It\", \"is\", \"gone\"]\\n    };\\n    expect(getOddLengthWordsAtProperty(obj, \"array\")).to.deep.eq([]);\\n  });\\n  it(\"should return an empty array if the array is empty\", function() {\\n    var obj = {\\n      array: []\\n    };\\n    expect(getOddLengthWordsAtProperty(obj, \"array\")).to.deep.eq([]);\\n  });\\n  it(\"should return an empty array if the property is not an array\", function() {\\n    var obj = {\\n      array: \"sike\"\\n    };\\n    expect(getOddLengthWordsAtProperty(obj, \"array\")).to.deep.eq([]);\\n  });\\n  it(\"should return an empty array if the property does not exist\", function() {\\n    var obj = {\\n      what: \"sike\"\\n    };\\n    expect(getOddLengthWordsAtProperty(obj, \"array\")).to.deep.eq([]);\\n  });\\n});\\n\\n\\n'"
      ]
     },
     "execution_count": 29,
     "metadata": {},
     "output_type": "execute_result"
    }
   ],
   "source": [
    "fun"
   ]
  },
  {
   "cell_type": "code",
   "execution_count": 59,
   "metadata": {},
   "outputs": [
    {
     "data": {
      "text/plain": [
       "['[\"a\", \"night\"]', '[]', '[]', '[]', '[]']"
      ]
     },
     "execution_count": 59,
     "metadata": {},
     "output_type": "execute_result"
    }
   ],
   "source": [
    "expected_result = re.compile(r'eq\\(([^\\)]*)\\)')\n",
    "expected_result.findall(fun)"
   ]
  },
  {
   "cell_type": "code",
   "execution_count": null,
   "metadata": {},
   "outputs": [],
   "source": []
  },
  {
   "cell_type": "code",
   "execution_count": null,
   "metadata": {},
   "outputs": [],
   "source": []
  },
  {
   "cell_type": "code",
   "execution_count": null,
   "metadata": {},
   "outputs": [],
   "source": []
  },
  {
   "cell_type": "code",
   "execution_count": 61,
   "metadata": {},
   "outputs": [
    {
     "data": {
      "text/plain": [
       "['describe(\"getOddLengthWordsAtProperty\", function() {\\n  it(\"should return an array containing all the odd length elements of the array located at key\", function() {\\n    var obj = {\\n      array: [\"a\", \"long\", \"night\"]\\n    };\\n    expect(getOddLengthWordsAtProperty(obj, \"array\")).to.deep.eq([\"a\", \"night\"]);\\n  });\\n  it(\"should return an empty array if the array has only no odd length elements\", function() {\\n    var obj = {\\n      array: [\"It\", \"is\", \"gone\"]\\n    };\\n    expect(getOddLengthWordsAtProperty(obj, \"array\")).to.deep.eq([]);\\n  });\\n  it(\"should return an empty array if the array is empty\", function() {\\n    var obj = {\\n      array: []\\n    };\\n    expect(getOddLengthWordsAtProperty(obj, \"array\")).to.deep.eq([]);\\n  });\\n  it(\"should return an empty array if the property is not an array\", function() {\\n    var obj = {\\n      array: \"sike\"\\n    };\\n    expect(getOddLengthWordsAtProperty(obj, \"array\")).to.deep.eq([]);\\n  });\\n  it(\"should return an empty array if the property does not exist\", function() {\\n    var obj = {\\n      what: \"sike\"\\n    };\\n    expect(getOddLengthWordsAtProperty(obj, \"array\")).to.deep.eq([]);\\n  });\\n});\\n\\n\\n',\n",
       " 'describe(\"getAverageOfElementsAtProperty\", function() {\\n  it(\"should return the average of all the elements of the array located at key\", function() {\\n    var obj = {\\n      array: [1, 3, 5]\\n    };\\n    expect(getAverageOfElementsAtProperty(obj, \"array\")).to.deep.eq(3);\\n  });\\n  it(\"should return 0 if the array is empty\", function() {\\n    var obj = {\\n      array: []\\n    };\\n    expect(getAverageOfElementsAtProperty(obj, \"array\")).to.deep.eq(0);\\n  });\\n  it(\"should return 0 if the property is not an array\", function() {\\n    var obj = {\\n      array: \"sike\"\\n    };\\n    expect(getAverageOfElementsAtProperty(obj, \"array\")).to.deep.eq(0);\\n  });\\n  it(\"should return 0 if the property does not exist\", function() {\\n    var obj = {\\n      what: \"sike\"\\n    };\\n    expect(getAverageOfElementsAtProperty(obj, \"array\")).to.deep.eq(0);\\n  });\\n});\\n\\n',\n",
       " 'describe(\"getEvenLengthWordsAtProperty\", function() {\\n  it(\"should return an array containing all the even length elements of the array located at key\", function() {\\n    var obj = {\\n      array: [\"a\", \"long\", \"game\"]\\n    };\\n    expect(getEvenLengthWordsAtProperty(obj, \"array\")).to.deep.eq([\"long\", \"game\"]);\\n  });\\n  it(\"should return an empty array if the array has only no even length elements\", function() {\\n    var obj = {\\n      array: [\"I\", \"may\", \"say\"]\\n    };\\n    expect(getEvenLengthWordsAtProperty(obj, \"array\")).to.deep.eq([]);\\n  });\\n  it(\"should return an empty array if the array is empty\", function() {\\n    var obj = {\\n      array: []\\n    };\\n    expect(getEvenLengthWordsAtProperty(obj, \"array\")).to.deep.eq([]);\\n  });\\n  it(\"should return an empty array if the property is not an array\", function() {\\n    var obj = {\\n      array: \"sike\"\\n    };\\n    expect(getEvenLengthWordsAtProperty(obj, \"array\")).to.deep.eq([]);\\n  });\\n  it(\"should return an empty array if the property does not exist\", function() {\\n    var obj = {\\n      what: \"sike\"\\n    };\\n    expect(getEvenLengthWordsAtProperty(obj, \"array\")).to.deep.eq([]);\\n  });\\n});\\n\\n']"
      ]
     },
     "execution_count": 61,
     "metadata": {},
     "output_type": "execute_result"
    }
   ],
   "source": [
    "#ok, now from the top\n",
    "\n",
    "describe = re.compile(r'describe[^`]*')\n",
    "describe_blocks = describe.findall(string)\n",
    "describe_blocks"
   ]
  },
  {
   "cell_type": "code",
   "execution_count": 62,
   "metadata": {},
   "outputs": [
    {
     "name": "stdout",
     "output_type": "stream",
     "text": [
      "describe(\"getOddLengthWordsAtProperty\", function() {\n",
      "  it(\"should return an array containing all the odd length elements of the array located at key\", function() {\n",
      "    var obj = {\n",
      "      array: [\"a\", \"long\", \"night\"]\n",
      "    };\n",
      "    expect(getOddLengthWordsAtProperty(obj, \"array\")).to.deep.eq([\"a\", \"night\"]);\n",
      "  });\n",
      "  it(\"should return an empty array if the array has only no odd length elements\", function() {\n",
      "    var obj = {\n",
      "      array: [\"It\", \"is\", \"gone\"]\n",
      "    };\n",
      "    expect(getOddLengthWordsAtProperty(obj, \"array\")).to.deep.eq([]);\n",
      "  });\n",
      "  it(\"should return an empty array if the array is empty\", function() {\n",
      "    var obj = {\n",
      "      array: []\n",
      "    };\n",
      "    expect(getOddLengthWordsAtProperty(obj, \"array\")).to.deep.eq([]);\n",
      "  });\n",
      "  it(\"should return an empty array if the property is not an array\", function() {\n",
      "    var obj = {\n",
      "      array: \"sike\"\n",
      "    };\n",
      "    expect(getOddLengthWordsAtProperty(obj, \"array\")).to.deep.eq([]);\n",
      "  });\n",
      "  it(\"should return an empty array if the property does not exist\", function() {\n",
      "    var obj = {\n",
      "      what: \"sike\"\n",
      "    };\n",
      "    expect(getOddLengthWordsAtProperty(obj, \"array\")).to.deep.eq([]);\n",
      "  });\n",
      "});\n",
      "\n",
      "\n",
      "\n",
      "describe(\"getAverageOfElementsAtProperty\", function() {\n",
      "  it(\"should return the average of all the elements of the array located at key\", function() {\n",
      "    var obj = {\n",
      "      array: [1, 3, 5]\n",
      "    };\n",
      "    expect(getAverageOfElementsAtProperty(obj, \"array\")).to.deep.eq(3);\n",
      "  });\n",
      "  it(\"should return 0 if the array is empty\", function() {\n",
      "    var obj = {\n",
      "      array: []\n",
      "    };\n",
      "    expect(getAverageOfElementsAtProperty(obj, \"array\")).to.deep.eq(0);\n",
      "  });\n",
      "  it(\"should return 0 if the property is not an array\", function() {\n",
      "    var obj = {\n",
      "      array: \"sike\"\n",
      "    };\n",
      "    expect(getAverageOfElementsAtProperty(obj, \"array\")).to.deep.eq(0);\n",
      "  });\n",
      "  it(\"should return 0 if the property does not exist\", function() {\n",
      "    var obj = {\n",
      "      what: \"sike\"\n",
      "    };\n",
      "    expect(getAverageOfElementsAtProperty(obj, \"array\")).to.deep.eq(0);\n",
      "  });\n",
      "});\n",
      "\n",
      "\n",
      "describe(\"getEvenLengthWordsAtProperty\", function() {\n",
      "  it(\"should return an array containing all the even length elements of the array located at key\", function() {\n",
      "    var obj = {\n",
      "      array: [\"a\", \"long\", \"game\"]\n",
      "    };\n",
      "    expect(getEvenLengthWordsAtProperty(obj, \"array\")).to.deep.eq([\"long\", \"game\"]);\n",
      "  });\n",
      "  it(\"should return an empty array if the array has only no even length elements\", function() {\n",
      "    var obj = {\n",
      "      array: [\"I\", \"may\", \"say\"]\n",
      "    };\n",
      "    expect(getEvenLengthWordsAtProperty(obj, \"array\")).to.deep.eq([]);\n",
      "  });\n",
      "  it(\"should return an empty array if the array is empty\", function() {\n",
      "    var obj = {\n",
      "      array: []\n",
      "    };\n",
      "    expect(getEvenLengthWordsAtProperty(obj, \"array\")).to.deep.eq([]);\n",
      "  });\n",
      "  it(\"should return an empty array if the property is not an array\", function() {\n",
      "    var obj = {\n",
      "      array: \"sike\"\n",
      "    };\n",
      "    expect(getEvenLengthWordsAtProperty(obj, \"array\")).to.deep.eq([]);\n",
      "  });\n",
      "  it(\"should return an empty array if the property does not exist\", function() {\n",
      "    var obj = {\n",
      "      what: \"sike\"\n",
      "    };\n",
      "    expect(getEvenLengthWordsAtProperty(obj, \"array\")).to.deep.eq([]);\n",
      "  });\n",
      "});\n",
      "\n",
      "\n"
     ]
    }
   ],
   "source": [
    "for block in describe_blocks:\n",
    "    print(block)"
   ]
  },
  {
   "cell_type": "code",
   "execution_count": 73,
   "metadata": {},
   "outputs": [
    {
     "name": "stdout",
     "output_type": "stream",
     "text": [
      "name ['getOddLengthWordsAtProperty']\n",
      "test description ['should return an array containing all the odd length elements of the array located at key', 'should return an empty array if the array has only no odd length elements', 'should return an empty array if the array is empty', 'should return an empty array if the property is not an array', 'should return an empty array if the property does not exist']\n",
      "test_functions ['getOddLengthWordsAtProperty(obj, \"array\")', 'getOddLengthWordsAtProperty(obj, \"array\")', 'getOddLengthWordsAtProperty(obj, \"array\")', 'getOddLengthWordsAtProperty(obj, \"array\")', 'getOddLengthWordsAtProperty(obj, \"array\")']\n",
      "test_expected_results ['[\"a\", \"night\"]', '[]', '[]', '[]', '[]']\n",
      "name ['getAverageOfElementsAtProperty']\n",
      "test description ['should return the average of all the elements of the array located at key', 'should return 0 if the array is empty', 'should return 0 if the property is not an array', 'should return 0 if the property does not exist']\n",
      "test_functions ['getAverageOfElementsAtProperty(obj, \"array\")', 'getAverageOfElementsAtProperty(obj, \"array\")', 'getAverageOfElementsAtProperty(obj, \"array\")', 'getAverageOfElementsAtProperty(obj, \"array\")']\n",
      "test_expected_results ['3', '0', '0', '0']\n",
      "name ['getEvenLengthWordsAtProperty']\n",
      "test description ['should return an array containing all the even length elements of the array located at key', 'should return an empty array if the array has only no even length elements', 'should return an empty array if the array is empty', 'should return an empty array if the property is not an array', 'should return an empty array if the property does not exist']\n",
      "test_functions ['getEvenLengthWordsAtProperty(obj, \"array\")', 'getEvenLengthWordsAtProperty(obj, \"array\")', 'getEvenLengthWordsAtProperty(obj, \"array\")', 'getEvenLengthWordsAtProperty(obj, \"array\")', 'getEvenLengthWordsAtProperty(obj, \"array\")']\n",
      "test_expected_results ['[\"long\", \"game\"]', '[]', '[]', '[]', '[]']\n"
     ]
    }
   ],
   "source": [
    "function_name = re.compile(r'describe\\(\\\"([A-z]*)')\n",
    "test_description = re.compile(r'it\\(\"([^\"]*)')\n",
    "expected_result = re.compile(r'eq\\(([^\\)]*)\\)')\n",
    "\n",
    "for block in describe_blocks:\n",
    "    print('name',function_name.findall(block)) #list\n",
    "    #print(block) #string\n",
    "    print('test description', test_description.findall(block)) #list\n",
    "    function_with_args = re.compile(r'{}\\([^)]+\\)'.format(function_name.findall(block)[0]))\n",
    "    print('test_functions', function_with_args.findall(block)) \n",
    "    print('test_expected_results',expected_result.findall(block))"
   ]
  },
  {
   "cell_type": "code",
   "execution_count": 74,
   "metadata": {},
   "outputs": [
    {
     "data": {
      "text/plain": [
       "{'getOddLengthWordsAtProperty': {'description': ['should return an array containing all the odd length elements of the array located at key',\n",
       "   'should return an empty array if the array has only no odd length elements',\n",
       "   'should return an empty array if the array is empty',\n",
       "   'should return an empty array if the property is not an array',\n",
       "   'should return an empty array if the property does not exist'],\n",
       "  'test_functions': ['getOddLengthWordsAtProperty(obj, \"array\")',\n",
       "   'getOddLengthWordsAtProperty(obj, \"array\")',\n",
       "   'getOddLengthWordsAtProperty(obj, \"array\")',\n",
       "   'getOddLengthWordsAtProperty(obj, \"array\")',\n",
       "   'getOddLengthWordsAtProperty(obj, \"array\")'],\n",
       "  'test_expected_results': ['[\"a\", \"night\"]', '[]', '[]', '[]', '[]']},\n",
       " 'getAverageOfElementsAtProperty': {'description': ['should return the average of all the elements of the array located at key',\n",
       "   'should return 0 if the array is empty',\n",
       "   'should return 0 if the property is not an array',\n",
       "   'should return 0 if the property does not exist'],\n",
       "  'test_functions': ['getAverageOfElementsAtProperty(obj, \"array\")',\n",
       "   'getAverageOfElementsAtProperty(obj, \"array\")',\n",
       "   'getAverageOfElementsAtProperty(obj, \"array\")',\n",
       "   'getAverageOfElementsAtProperty(obj, \"array\")'],\n",
       "  'test_expected_results': ['3', '0', '0', '0']},\n",
       " 'getEvenLengthWordsAtProperty': {'description': ['should return an array containing all the even length elements of the array located at key',\n",
       "   'should return an empty array if the array has only no even length elements',\n",
       "   'should return an empty array if the array is empty',\n",
       "   'should return an empty array if the property is not an array',\n",
       "   'should return an empty array if the property does not exist'],\n",
       "  'test_functions': ['getEvenLengthWordsAtProperty(obj, \"array\")',\n",
       "   'getEvenLengthWordsAtProperty(obj, \"array\")',\n",
       "   'getEvenLengthWordsAtProperty(obj, \"array\")',\n",
       "   'getEvenLengthWordsAtProperty(obj, \"array\")',\n",
       "   'getEvenLengthWordsAtProperty(obj, \"array\")'],\n",
       "  'test_expected_results': ['[\"long\", \"game\"]', '[]', '[]', '[]', '[]']}}"
      ]
     },
     "execution_count": 74,
     "metadata": {},
     "output_type": "execute_result"
    }
   ],
   "source": [
    "function_name = re.compile(r'describe\\(\\\"([A-z]*)')\n",
    "test_description = re.compile(r'it\\(\"([^\"]*)')\n",
    "expected_result = re.compile(r'eq\\(([^\\)]*)\\)')\n",
    "\n",
    "test_object = {}\n",
    "\n",
    "\n",
    "for block in describe_blocks:\n",
    "    name = function_name.findall(block)[0]\n",
    "    test_object[name] = {}\n",
    "    test_object[name]['description'] = test_description.findall(block)\n",
    "    function_with_args = re.compile(r'{}\\([^)]+\\)'.format(name))\n",
    "    test_object[name]['test_functions'] = function_with_args.findall(block)\n",
    "    test_object[name]['test_expected_results'] = expected_result.findall(block)\n",
    "test_object"
   ]
  },
  {
   "cell_type": "code",
   "execution_count": 77,
   "metadata": {},
   "outputs": [],
   "source": [
    "a = [1,2]\n",
    "b = [3,4]\n",
    "c = [5,6]\n",
    "z  = zip(a,b,c)"
   ]
  },
  {
   "cell_type": "code",
   "execution_count": 78,
   "metadata": {},
   "outputs": [
    {
     "data": {
      "text/plain": [
       "[(1, 3, 5), (2, 4, 6)]"
      ]
     },
     "execution_count": 78,
     "metadata": {},
     "output_type": "execute_result"
    }
   ],
   "source": [
    "list(z)"
   ]
  },
  {
   "cell_type": "code",
   "execution_count": 79,
   "metadata": {},
   "outputs": [
    {
     "data": {
      "text/plain": [
       "{'getOddLengthWordsAtProperty': [('getOddLengthWordsAtProperty(obj, \"array\")',\n",
       "   '[\"a\", \"night\"]',\n",
       "   'should return an array containing all the odd length elements of the array located at key'),\n",
       "  ('getOddLengthWordsAtProperty(obj, \"array\")',\n",
       "   '[]',\n",
       "   'should return an empty array if the array has only no odd length elements'),\n",
       "  ('getOddLengthWordsAtProperty(obj, \"array\")',\n",
       "   '[]',\n",
       "   'should return an empty array if the array is empty'),\n",
       "  ('getOddLengthWordsAtProperty(obj, \"array\")',\n",
       "   '[]',\n",
       "   'should return an empty array if the property is not an array'),\n",
       "  ('getOddLengthWordsAtProperty(obj, \"array\")',\n",
       "   '[]',\n",
       "   'should return an empty array if the property does not exist')],\n",
       " 'getAverageOfElementsAtProperty': [('getAverageOfElementsAtProperty(obj, \"array\")',\n",
       "   '3',\n",
       "   'should return the average of all the elements of the array located at key'),\n",
       "  ('getAverageOfElementsAtProperty(obj, \"array\")',\n",
       "   '0',\n",
       "   'should return 0 if the array is empty'),\n",
       "  ('getAverageOfElementsAtProperty(obj, \"array\")',\n",
       "   '0',\n",
       "   'should return 0 if the property is not an array'),\n",
       "  ('getAverageOfElementsAtProperty(obj, \"array\")',\n",
       "   '0',\n",
       "   'should return 0 if the property does not exist')],\n",
       " 'getEvenLengthWordsAtProperty': [('getEvenLengthWordsAtProperty(obj, \"array\")',\n",
       "   '[\"long\", \"game\"]',\n",
       "   'should return an array containing all the even length elements of the array located at key'),\n",
       "  ('getEvenLengthWordsAtProperty(obj, \"array\")',\n",
       "   '[]',\n",
       "   'should return an empty array if the array has only no even length elements'),\n",
       "  ('getEvenLengthWordsAtProperty(obj, \"array\")',\n",
       "   '[]',\n",
       "   'should return an empty array if the array is empty'),\n",
       "  ('getEvenLengthWordsAtProperty(obj, \"array\")',\n",
       "   '[]',\n",
       "   'should return an empty array if the property is not an array'),\n",
       "  ('getEvenLengthWordsAtProperty(obj, \"array\")',\n",
       "   '[]',\n",
       "   'should return an empty array if the property does not exist')]}"
      ]
     },
     "execution_count": 79,
     "metadata": {},
     "output_type": "execute_result"
    }
   ],
   "source": [
    "function_name = re.compile(r'describe\\(\\\"([A-z]*)')\n",
    "test_description = re.compile(r'it\\(\"([^\"]*)')\n",
    "expected_result = re.compile(r'eq\\(([^\\)]*)\\)')\n",
    "\n",
    "test_object = {}\n",
    "\n",
    "\n",
    "for block in describe_blocks:\n",
    "    name = function_name.findall(block)[0]\n",
    "    function_with_args = re.compile(r'{}\\([^)]+\\)'.format(name))\n",
    "    description = test_description.findall(block)\n",
    "    test_functions = function_with_args.findall(block)\n",
    "    test_expected_results = expected_result.findall(block)\n",
    "    \n",
    "    test_object[name] = list(zip(test_functions,test_expected_results,description))\n",
    "\n",
    "test_object"
   ]
  },
  {
   "cell_type": "code",
   "execution_count": 81,
   "metadata": {},
   "outputs": [
    {
     "data": {
      "text/plain": [
       "{'getOddLengthWordsAtProperty': [('getOddLengthWordsAtProperty(obj, \"array\")',\n",
       "   '[\"a\", \"night\"]',\n",
       "   'should return an array containing all the odd length elements of the array located at key'),\n",
       "  ('getOddLengthWordsAtProperty(obj, \"array\")',\n",
       "   '[]',\n",
       "   'should return an empty array if the array has only no odd length elements'),\n",
       "  ('getOddLengthWordsAtProperty(obj, \"array\")',\n",
       "   '[]',\n",
       "   'should return an empty array if the array is empty'),\n",
       "  ('getOddLengthWordsAtProperty(obj, \"array\")',\n",
       "   '[]',\n",
       "   'should return an empty array if the property is not an array'),\n",
       "  ('getOddLengthWordsAtProperty(obj, \"array\")',\n",
       "   '[]',\n",
       "   'should return an empty array if the property does not exist')],\n",
       " 'getAverageOfElementsAtProperty': [('getAverageOfElementsAtProperty(obj, \"array\")',\n",
       "   '3',\n",
       "   'should return the average of all the elements of the array located at key'),\n",
       "  ('getAverageOfElementsAtProperty(obj, \"array\")',\n",
       "   '0',\n",
       "   'should return 0 if the array is empty'),\n",
       "  ('getAverageOfElementsAtProperty(obj, \"array\")',\n",
       "   '0',\n",
       "   'should return 0 if the property is not an array'),\n",
       "  ('getAverageOfElementsAtProperty(obj, \"array\")',\n",
       "   '0',\n",
       "   'should return 0 if the property does not exist')],\n",
       " 'getEvenLengthWordsAtProperty': [('getEvenLengthWordsAtProperty(obj, \"array\")',\n",
       "   '[\"long\", \"game\"]',\n",
       "   'should return an array containing all the even length elements of the array located at key'),\n",
       "  ('getEvenLengthWordsAtProperty(obj, \"array\")',\n",
       "   '[]',\n",
       "   'should return an empty array if the array has only no even length elements'),\n",
       "  ('getEvenLengthWordsAtProperty(obj, \"array\")',\n",
       "   '[]',\n",
       "   'should return an empty array if the array is empty'),\n",
       "  ('getEvenLengthWordsAtProperty(obj, \"array\")',\n",
       "   '[]',\n",
       "   'should return an empty array if the property is not an array'),\n",
       "  ('getEvenLengthWordsAtProperty(obj, \"array\")',\n",
       "   '[]',\n",
       "   'should return an empty array if the property does not exist')]}"
      ]
     },
     "execution_count": 81,
     "metadata": {},
     "output_type": "execute_result"
    }
   ],
   "source": [
    "#all in one cell\n",
    "\n",
    "src_file = \"dict9.md\"\n",
    "with open(src_file, 'rt') as f:\n",
    "    string = f.read()\n",
    "string = unicodedata.normalize(\"NFKD\", string)\n",
    "\n",
    "\n",
    "describe = re.compile(r'describe[^`]*')\n",
    "describe_blocks = describe.findall(string)\n",
    "\n",
    "function_name = re.compile(r'describe\\(\\\"([A-z]*)')\n",
    "test_description = re.compile(r'it\\(\"([^\"]*)')\n",
    "expected_result = re.compile(r'eq\\(([^\\)]*)\\)')\n",
    "\n",
    "test_object = {}\n",
    "\n",
    "for block in describe_blocks:\n",
    "    name = function_name.findall(block)[0]\n",
    "    function_with_args = re.compile(r'{}\\([^)]+\\)'.format(name))\n",
    "    test_object[name] = list(zip(function_with_args.findall(block),\n",
    "                                 expected_result.findall(block),\n",
    "                                 test_description.findall(block)))\n",
    "test_object"
   ]
  },
  {
   "cell_type": "code",
   "execution_count": 91,
   "metadata": {},
   "outputs": [],
   "source": [
    "test_class_string = '''\n",
    "```python\n",
    "import main\n",
    "import unittest\n",
    "\n",
    "class TestScript(unittest.TestCase):\n",
    "{insert}\n",
    "\n",
    "```\n",
    "'''\n",
    "\n",
    "assert_is = '''\n",
    "    def test_{n}(self):\n",
    "        # it {msg}\n",
    "        self.assertIs(type(main.{function}), {result},\n",
    "        msg = '{msg}' )\n",
    "\n",
    "'''\n",
    "\n",
    "assert_equal = '''\n",
    "    def test_{n}(self):\n",
    "        # it {msg}\n",
    "        self.assertEqual(main.{function}, {result},\n",
    "        msg = '{msg}')\n",
    "        \n",
    "'''\n",
    "\n",
    "assert_true = '''\n",
    "    def test_{n}(self):\n",
    "        # it {msg}\n",
    "        self.assertTrue(main.{function},\n",
    "        msg = '{msg}')\n",
    "\n",
    "'''\n",
    "\n",
    "assert_false = '''\n",
    "    def test_{n}(self):\n",
    "        # it {msg}\n",
    "        self.assertFalse(main.{function},\n",
    "        msg = '{msg}')\n",
    "\n",
    "'''\n"
   ]
  },
  {
   "cell_type": "code",
   "execution_count": 84,
   "metadata": {},
   "outputs": [
    {
     "name": "stdout",
     "output_type": "stream",
     "text": [
      "getOddLengthWordsAtProperty ('getOddLengthWordsAtProperty(obj, \"array\")', '[\"a\", \"night\"]', 'should return an array containing all the odd length elements of the array located at key')\n",
      "getAverageOfElementsAtProperty ('getAverageOfElementsAtProperty(obj, \"array\")', '3', 'should return the average of all the elements of the array located at key')\n",
      "getEvenLengthWordsAtProperty ('getEvenLengthWordsAtProperty(obj, \"array\")', '[\"long\", \"game\"]', 'should return an array containing all the even length elements of the array located at key')\n"
     ]
    }
   ],
   "source": [
    "for key in test_object:\n",
    "    print(key, test_object[key][0])"
   ]
  },
  {
   "cell_type": "code",
   "execution_count": 97,
   "metadata": {},
   "outputs": [
    {
     "data": {
      "text/plain": [
       "'\\n    def test_0(self):\\n        # it should return an array containing all the odd length elements of the array located at key\\n        self.assertEqual(main.getOddLengthWordsAtProperty(obj, \"array\"), [\"a\", \"night\"],\\n        msg = \\'should return an array containing all the odd length elements of the array located at key\\')\\n        \\n\\n    def test_1(self):\\n        # it should return an empty array if the array has only no odd length elements\\n        self.assertEqual(main.getOddLengthWordsAtProperty(obj, \"array\"), [],\\n        msg = \\'should return an empty array if the array has only no odd length elements\\')\\n        \\n\\n    def test_2(self):\\n        # it should return an empty array if the array is empty\\n        self.assertEqual(main.getOddLengthWordsAtProperty(obj, \"array\"), [],\\n        msg = \\'should return an empty array if the array is empty\\')\\n        \\n\\n    def test_3(self):\\n        # it should return an empty array if the property is not an array\\n        self.assertEqual(main.getOddLengthWordsAtProperty(obj, \"array\"), [],\\n        msg = \\'should return an empty array if the property is not an array\\')\\n        \\n\\n    def test_4(self):\\n        # it should return an empty array if the property does not exist\\n        self.assertEqual(main.getOddLengthWordsAtProperty(obj, \"array\"), [],\\n        msg = \\'should return an empty array if the property does not exist\\')\\n        \\n'"
      ]
     },
     "execution_count": 97,
     "metadata": {},
     "output_type": "execute_result"
    }
   ],
   "source": [
    "output_strings = []\n",
    "for key in test_object:\n",
    "    acc = \"\"\n",
    "    for n, test in enumerate(test_object[key]):\n",
    "        result = assert_equal.format(n=n, \n",
    "                                  function=test[0],\n",
    "                                  result=test[1],\n",
    "                                  msg=test[2])\n",
    "        acc += result\n",
    "    output_strings.append(acc)\n",
    "    \n"
   ]
  },
  {
   "cell_type": "code",
   "execution_count": 98,
   "metadata": {},
   "outputs": [
    {
     "data": {
      "text/plain": [
       "'\\n    def test_0(self):\\n        # it should return an array containing all the odd length elements of the array located at key\\n        self.assertEqual(main.getOddLengthWordsAtProperty(obj, \"array\"), [\"a\", \"night\"],\\n        msg = \\'should return an array containing all the odd length elements of the array located at key\\')\\n        \\n\\n    def test_1(self):\\n        # it should return an empty array if the array has only no odd length elements\\n        self.assertEqual(main.getOddLengthWordsAtProperty(obj, \"array\"), [],\\n        msg = \\'should return an empty array if the array has only no odd length elements\\')\\n        \\n\\n    def test_2(self):\\n        # it should return an empty array if the array is empty\\n        self.assertEqual(main.getOddLengthWordsAtProperty(obj, \"array\"), [],\\n        msg = \\'should return an empty array if the array is empty\\')\\n        \\n\\n    def test_3(self):\\n        # it should return an empty array if the property is not an array\\n        self.assertEqual(main.getOddLengthWordsAtProperty(obj, \"array\"), [],\\n        msg = \\'should return an empty array if the property is not an array\\')\\n        \\n\\n    def test_4(self):\\n        # it should return an empty array if the property does not exist\\n        self.assertEqual(main.getOddLengthWordsAtProperty(obj, \"array\"), [],\\n        msg = \\'should return an empty array if the property does not exist\\')\\n        \\n'"
      ]
     },
     "execution_count": 98,
     "metadata": {},
     "output_type": "execute_result"
    }
   ],
   "source": [
    "output_strings[0]"
   ]
  },
  {
   "cell_type": "code",
   "execution_count": 99,
   "metadata": {},
   "outputs": [
    {
     "data": {
      "text/plain": [
       "'\\n    def test_0(self):\\n        # it should return the average of all the elements of the array located at key\\n        self.assertEqual(main.getAverageOfElementsAtProperty(obj, \"array\"), 3,\\n        msg = \\'should return the average of all the elements of the array located at key\\')\\n        \\n\\n    def test_1(self):\\n        # it should return 0 if the array is empty\\n        self.assertEqual(main.getAverageOfElementsAtProperty(obj, \"array\"), 0,\\n        msg = \\'should return 0 if the array is empty\\')\\n        \\n\\n    def test_2(self):\\n        # it should return 0 if the property is not an array\\n        self.assertEqual(main.getAverageOfElementsAtProperty(obj, \"array\"), 0,\\n        msg = \\'should return 0 if the property is not an array\\')\\n        \\n\\n    def test_3(self):\\n        # it should return 0 if the property does not exist\\n        self.assertEqual(main.getAverageOfElementsAtProperty(obj, \"array\"), 0,\\n        msg = \\'should return 0 if the property does not exist\\')\\n        \\n'"
      ]
     },
     "execution_count": 99,
     "metadata": {},
     "output_type": "execute_result"
    }
   ],
   "source": [
    "output_strings[1]"
   ]
  },
  {
   "cell_type": "code",
   "execution_count": 100,
   "metadata": {},
   "outputs": [
    {
     "data": {
      "text/plain": [
       "'\\n    def test_0(self):\\n        # it should return an array containing all the even length elements of the array located at key\\n        self.assertEqual(main.getEvenLengthWordsAtProperty(obj, \"array\"), [\"long\", \"game\"],\\n        msg = \\'should return an array containing all the even length elements of the array located at key\\')\\n        \\n\\n    def test_1(self):\\n        # it should return an empty array if the array has only no even length elements\\n        self.assertEqual(main.getEvenLengthWordsAtProperty(obj, \"array\"), [],\\n        msg = \\'should return an empty array if the array has only no even length elements\\')\\n        \\n\\n    def test_2(self):\\n        # it should return an empty array if the array is empty\\n        self.assertEqual(main.getEvenLengthWordsAtProperty(obj, \"array\"), [],\\n        msg = \\'should return an empty array if the array is empty\\')\\n        \\n\\n    def test_3(self):\\n        # it should return an empty array if the property is not an array\\n        self.assertEqual(main.getEvenLengthWordsAtProperty(obj, \"array\"), [],\\n        msg = \\'should return an empty array if the property is not an array\\')\\n        \\n\\n    def test_4(self):\\n        # it should return an empty array if the property does not exist\\n        self.assertEqual(main.getEvenLengthWordsAtProperty(obj, \"array\"), [],\\n        msg = \\'should return an empty array if the property does not exist\\')\\n        \\n'"
      ]
     },
     "execution_count": 100,
     "metadata": {},
     "output_type": "execute_result"
    }
   ],
   "source": [
    "output_strings[2]"
   ]
  },
  {
   "cell_type": "code",
   "execution_count": null,
   "metadata": {},
   "outputs": [],
   "source": []
  }
 ],
 "metadata": {
  "kernelspec": {
   "display_name": "Python 3",
   "language": "python",
   "name": "python3"
  },
  "language_info": {
   "codemirror_mode": {
    "name": "ipython",
    "version": 3
   },
   "file_extension": ".py",
   "mimetype": "text/x-python",
   "name": "python",
   "nbconvert_exporter": "python",
   "pygments_lexer": "ipython3",
   "version": "3.6.5"
  }
 },
 "nbformat": 4,
 "nbformat_minor": 2
}
