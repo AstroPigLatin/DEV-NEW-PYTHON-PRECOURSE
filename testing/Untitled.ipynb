{
 "cells": [
  {
   "cell_type": "code",
   "execution_count": 4,
   "metadata": {},
   "outputs": [],
   "source": [
    "import os\n",
    "import re\n"
   ]
  },
  {
   "cell_type": "code",
   "execution_count": 9,
   "metadata": {},
   "outputs": [],
   "source": [
    "#src = \"testing\"\n",
    "srcfile = 'dict1.md'\n",
    "targetfile = 'dict1-python.md'\n",
    "filepath = os.path.join(srcfile)\n"
   ]
  },
  {
   "cell_type": "code",
   "execution_count": 10,
   "metadata": {},
   "outputs": [
    {
     "name": "stdout",
     "output_type": "stream",
     "text": [
      "/Users/seanreed1/gschool/TTP/DEV-NEW-PYTHON-PRECOURSE/testing\n"
     ]
    },
    {
     "data": {
      "text/plain": [
       "['getProperty', 'addProperty', 'removeProperty']"
      ]
     },
     "execution_count": 10,
     "metadata": {},
     "output_type": "execute_result"
    }
   ],
   "source": [
    "!pwd\n",
    "with open(filepath,'rt') as f:\n",
    "    name = re.compile(r'(?=called \"(\\w+))') #matches the function names\n",
    "    names = name.findall(f.read())\n",
    "names\n",
    "\n"
   ]
  },
  {
   "cell_type": "code",
   "execution_count": 11,
   "metadata": {},
   "outputs": [
    {
     "data": {
      "text/plain": [
       "['should return the value of the property located in the object at the passed in key',\n",
       " 'should return undefined when there is no property at the passed in key',\n",
       " 'should add a property to the passed in object at the passed in key',\n",
       " 'should set the value at the passed in key to true on the passed in object',\n",
       " 'should remove the property from the passed in object at the passed in key']"
      ]
     },
     "execution_count": 11,
     "metadata": {},
     "output_type": "execute_result"
    }
   ],
   "source": [
    "with open(filepath,'rt') as f:\n",
    "    description = re.compile(r'(?=it\\(\"(.*)(?=\"))') #text of what is being tested\n",
    "    descriptions = description.findall(f.read())\n",
    "descriptions"
   ]
  },
  {
   "cell_type": "code",
   "execution_count": 41,
   "metadata": {},
   "outputs": [
    {
     "data": {
      "text/plain": [
       "['expect(getProperty(obj, \"name\")).to.deep.eq(\"You\")',\n",
       " 'expect(getProperty(obj, \"age\")).to.deep.eq(undefined)',\n",
       " 'expect(testObj.testKey).to.deep.eq(true)',\n",
       " \"expect(testObj).to.deep.eq({'testKey': true})\",\n",
       " 'expect(testObj.name).to.deep.eq(undefined)']"
      ]
     },
     "execution_count": 41,
     "metadata": {},
     "output_type": "execute_result"
    }
   ],
   "source": [
    "with open(filepath,'rt') as f:\n",
    "    expectation = re.compile(r'(expect.*;') #JS expectation\n",
    "    expectations = expectation.findall(f.read())\n",
    "    \n",
    "expectations"
   ]
  },
  {
   "cell_type": "code",
   "execution_count": 59,
   "metadata": {},
   "outputs": [
    {
     "data": {
      "text/plain": [
       "[('  var obj;', '  var obj;'),\n",
       " ('  var testObj;', '  var testObj;'),\n",
       " ('  it(\"should remove the property from the passed in object at the passed in key\", function() {',\n",
       "  '  it(\"should remove the property from the passed in object at the passed in key\", function() {')]"
      ]
     },
     "execution_count": 59,
     "metadata": {},
     "output_type": "execute_result"
    }
   ],
   "source": [
    "with open(filepath,'rt') as f:\n",
    "    expectation = re.compile(r\"^describe.*(?:\\n)((.+)+)\", re.MULTILINE) #JS expectation\n",
    "    expectations = expectation.findall(f.read())\n",
    "    \n",
    "expectations"
   ]
  },
  {
   "cell_type": "code",
   "execution_count": 45,
   "metadata": {},
   "outputs": [
    {
     "data": {
      "text/plain": [
       "('^(.+)(?:\\\\n|\\\\r\\\\n?)((?:(?:\\\\n|\\\\r\\\\n?).+)+)', <RegexFlag.MULTILINE: 8>)"
      ]
     },
     "execution_count": 45,
     "metadata": {},
     "output_type": "execute_result"
    }
   ],
   "source": [
    "(r\"^(.+)(?:\\n|\\r\\n?)((?:(?:\\n|\\r\\n?).+)+)\", re.MULTILINE)"
   ]
  },
  {
   "cell_type": "code",
   "execution_count": 82,
   "metadata": {},
   "outputs": [
    {
     "data": {
      "text/plain": [
       "[('', '\\n```')]"
      ]
     },
     "execution_count": 82,
     "metadata": {},
     "output_type": "execute_result"
    }
   ],
   "source": [
    "with open(filepath,'rt') as f:\n",
    "    expectation = re.compile(r\"^(describe)?(?:\\n|\\r\\n?)((?:(?:\\n|\\r\\n?).+)+)\", re.MULTILINE) #JS expectation\n",
    "    expectations = expectation.findall(f.read())\n",
    "    \n",
    "expectations"
   ]
  },
  {
   "cell_type": "code",
   "execution_count": null,
   "metadata": {},
   "outputs": [],
   "source": [
    "DESCRIBE BLOCK"
   ]
  },
  {
   "cell_type": "code",
   "execution_count": 87,
   "metadata": {},
   "outputs": [
    {
     "data": {
      "text/plain": [
       "[('describe', ''), ('describe', ''), ('describe', '')]"
      ]
     },
     "execution_count": 87,
     "metadata": {},
     "output_type": "execute_result"
    }
   ],
   "source": [
    "with open(filepath,'rt') as f:\n",
    "    describe = re.compile(r\"(describe.*?)(end-tests)?\", re.DOTALL) #JS expectation\n",
    "    describes = describe.findall(f.read())\n",
    "\n",
    "describes\n",
    "\n",
    "\n"
   ]
  },
  {
   "cell_type": "code",
   "execution_count": null,
   "metadata": {},
   "outputs": [],
   "source": []
  }
 ],
 "metadata": {
  "kernelspec": {
   "display_name": "Python 3",
   "language": "python",
   "name": "python3"
  },
  "language_info": {
   "codemirror_mode": {
    "name": "ipython",
    "version": 3
   },
   "file_extension": ".py",
   "mimetype": "text/x-python",
   "name": "python",
   "nbconvert_exporter": "python",
   "pygments_lexer": "ipython3",
   "version": "3.6.5"
  }
 },
 "nbformat": 4,
 "nbformat_minor": 2
}
