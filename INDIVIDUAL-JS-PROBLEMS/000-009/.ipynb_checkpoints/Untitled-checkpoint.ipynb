{
 "cells": [
  {
   "cell_type": "code",
   "execution_count": 1,
   "metadata": {},
   "outputs": [],
   "source": [
    "import os\n",
    "import re\n"
   ]
  },
  {
   "cell_type": "code",
   "execution_count": 5,
   "metadata": {},
   "outputs": [],
   "source": [
    "#src_dir = \"../INDIVIDUAL-JS-PROBLEMS/000-009\"\n",
    "srcfile = 'getFullName.md'\n",
    "targetfile = 'getFullName-python.md'\n",
    "filepath = os.path.join(srcfile)"
   ]
  },
  {
   "cell_type": "code",
   "execution_count": 7,
   "metadata": {},
   "outputs": [
    {
     "data": {
      "text/plain": [
       "['getFullName']"
      ]
     },
     "execution_count": 7,
     "metadata": {},
     "output_type": "execute_result"
    }
   ],
   "source": [
    "#function name\n",
    "with open(filepath,'rt') as f:\n",
    "    name = re.compile(r'(?=called \"(\\w+))') #matches the function names\n",
    "    names = name.findall(f.read())\n",
    "names\n"
   ]
  },
  {
   "cell_type": "code",
   "execution_count": 15,
   "metadata": {},
   "outputs": [
    {
     "ename": "SyntaxError",
     "evalue": "invalid syntax (<ipython-input-15-55d35ae4d304>, line 4)",
     "output_type": "error",
     "traceback": [
      "\u001b[0;36m  File \u001b[0;32m\"<ipython-input-15-55d35ae4d304>\"\u001b[0;36m, line \u001b[0;32m4\u001b[0m\n\u001b[0;31m    signature = re.compile((?<=r'getFullName')) #matches the function signature\u001b[0m\n\u001b[0m                            ^\u001b[0m\n\u001b[0;31mSyntaxError\u001b[0m\u001b[0;31m:\u001b[0m invalid syntax\n"
     ]
    }
   ],
   "source": [
    "#function signature\n",
    "#sig_string = names[0]+r'('+  {args}  +r')'\n",
    "with open(filepath,'rt') as f:\n",
    "    signature = re.compile((?<=r'getFullName')) #matches the function signature\n",
    "    signatures = signature.findall(f.read())\n",
    "signatures\n"
   ]
  },
  {
   "cell_type": "code",
   "execution_count": null,
   "metadata": {},
   "outputs": [],
   "source": []
  },
  {
   "cell_type": "code",
   "execution_count": null,
   "metadata": {},
   "outputs": [],
   "source": []
  },
  {
   "cell_type": "code",
   "execution_count": 8,
   "metadata": {},
   "outputs": [
    {
     "data": {
      "text/plain": [
       "['should return a string',\n",
       " 'should return a full name using firstName and lastName']"
      ]
     },
     "execution_count": 8,
     "metadata": {},
     "output_type": "execute_result"
    }
   ],
   "source": [
    "with open(filepath,'rt') as f:\n",
    "    description = re.compile(r'(?=it\\(\"(.*)(?=\"))') #text of what is being tested\n",
    "    descriptions = description.findall(f.read())\n",
    "descriptions"
   ]
  },
  {
   "cell_type": "code",
   "execution_count": 9,
   "metadata": {},
   "outputs": [
    {
     "data": {
      "text/plain": [
       "['expect(typeof(getFullName(\"Rebecca\", \"Solnit\"))).to.deep.eq(\"string\")',\n",
       " 'expect(getFullName(\"Rebecca\", \"Solnit\")).to.deep.eq(\"Rebecca Solnit\")']"
      ]
     },
     "execution_count": 9,
     "metadata": {},
     "output_type": "execute_result"
    }
   ],
   "source": [
    "with open(filepath,'rt') as f:\n",
    "    expectation = re.compile(r'(expect\\(.*(?=;))') #JS expectation\n",
    "    expectations = expectation.findall(f.read())\n",
    "    \n",
    "expectations"
   ]
  },
  {
   "cell_type": "code",
   "execution_count": null,
   "metadata": {},
   "outputs": [],
   "source": []
  }
 ],
 "metadata": {
  "kernelspec": {
   "display_name": "Python 3",
   "language": "python",
   "name": "python3"
  },
  "language_info": {
   "codemirror_mode": {
    "name": "ipython",
    "version": 3
   },
   "file_extension": ".py",
   "mimetype": "text/x-python",
   "name": "python",
   "nbconvert_exporter": "python",
   "pygments_lexer": "ipython3",
   "version": "3.6.5"
  }
 },
 "nbformat": 4,
 "nbformat_minor": 2
}
