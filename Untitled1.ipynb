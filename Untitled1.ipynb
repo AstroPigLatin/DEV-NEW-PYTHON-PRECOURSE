{
 "cells": [
  {
   "cell_type": "code",
   "execution_count": 22,
   "metadata": {},
   "outputs": [],
   "source": [
    "import os\n",
    "import re\n",
    "\n",
    "data = '''describe(\"isOldEnoughToVote\", function() {\n",
    "  it(\"should return a boolean\", function() {\n",
    "    expect(typeof isOldEnoughToVote(40)).to.deep.eq(\"boolean\");\n",
    "  });\n",
    "  it(\"should return whether the age is greater than 18\", function() {\n",
    "    expect(isOldEnoughToVote(40)).to.deep.eq(true);\n",
    "  });\n",
    "  it(\"should return true if the age is 18\", function() {\n",
    "    expect(isOldEnoughToVote(18)).to.deep.eq(true);\n",
    "  });\n",
    "});\n",
    "'''\n"
   ]
  },
  {
   "cell_type": "code",
   "execution_count": 23,
   "metadata": {},
   "outputs": [
    {
     "data": {
      "text/plain": [
       "'describe(\"isOldEnoughToVote\", function() {\\n  it(\"should return a boolean\", function() {\\n    expect(typeof isOldEnoughToVote(40)).to.deep.eq(\"boolean\");\\n  });\\n  it(\"should return whether the age is greater than 18\", function() {\\n    expect(isOldEnoughToVote(40)).to.deep.eq(true);\\n  });\\n  it(\"should return true if the age is 18\", function() {\\n    expect(isOldEnoughToVote(18)).to.deep.eq(true);\\n  });\\n});\\n'"
      ]
     },
     "execution_count": 23,
     "metadata": {},
     "output_type": "execute_result"
    }
   ],
   "source": [
    "data"
   ]
  },
  {
   "cell_type": "code",
   "execution_count": 28,
   "metadata": {},
   "outputs": [
    {
     "data": {
      "text/plain": [
       "['should return a boolean',\n",
       " 'should return whether the age is greater than 18',\n",
       " 'should return true if the age is 18']"
      ]
     },
     "execution_count": 28,
     "metadata": {},
     "output_type": "execute_result"
    }
   ],
   "source": [
    "\n",
    "pat = re.compile(r'should.*(?=\")')\n",
    "expectations = pat.findall(data)\n",
    "expectations"
   ]
  },
  {
   "cell_type": "code",
   "execution_count": null,
   "metadata": {},
   "outputs": [],
   "source": []
  }
 ],
 "metadata": {
  "kernelspec": {
   "display_name": "Python 3",
   "language": "python",
   "name": "python3"
  },
  "language_info": {
   "codemirror_mode": {
    "name": "ipython",
    "version": 3
   },
   "file_extension": ".py",
   "mimetype": "text/x-python",
   "name": "python",
   "nbconvert_exporter": "python",
   "pygments_lexer": "ipython3",
   "version": "3.6.5"
  }
 },
 "nbformat": 4,
 "nbformat_minor": 2
}
